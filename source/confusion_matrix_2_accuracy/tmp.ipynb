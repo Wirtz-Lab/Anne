{
 "cells": [
  {
   "metadata": {
    "ExecuteTime": {
     "end_time": "2024-10-16T18:12:10.145857Z",
     "start_time": "2024-10-16T18:12:10.062259Z"
    }
   },
   "cell_type": "code",
   "source": [
    "import pandas as pd\n",
    "import numpy as np\n",
    "xl = pd.read_excel(\n",
    "    r\"\\\\10.99.68.54\\Digital pathology image lib\\HubMap Skin TMC project\\240418_DLTL_master\\DLTL_version_list_241007.xlsx\")\n",
    "dltlids = xl.sort_values('Model_ID')\n",
    "dltlids['se_radius'].isnull()"
   ],
   "id": "178741d8d2b367f4",
   "outputs": [
    {
     "data": {
      "text/plain": [
       "0      False\n",
       "1      False\n",
       "2      False\n",
       "3      False\n",
       "4      False\n",
       "       ...  \n",
       "224     True\n",
       "225     True\n",
       "226     True\n",
       "227     True\n",
       "228     True\n",
       "Name: se_radius, Length: 229, dtype: bool"
      ]
     },
     "execution_count": 13,
     "metadata": {},
     "output_type": "execute_result"
    }
   ],
   "execution_count": 13
  },
  {
   "metadata": {
    "ExecuteTime": {
     "end_time": "2024-10-16T18:13:43.734789Z",
     "start_time": "2024-10-16T18:13:43.717039Z"
    }
   },
   "cell_type": "code",
   "source": "dltlids['Model_ID'][dltlids['se_radius'].notnull() & dltlids['f1score'].isnull()]",
   "id": "f573326a7a43c3f6",
   "outputs": [
    {
     "data": {
      "text/plain": [
       "5       75\n",
       "6       76\n",
       "7       77\n",
       "118    190\n",
       "119    191\n",
       "120    192\n",
       "130    202\n",
       "131    203\n",
       "132    204\n",
       "140    212\n",
       "141    213\n",
       "145    217\n",
       "146    218\n",
       "147    219\n",
       "157    229\n",
       "158    230\n",
       "159    231\n",
       "160    232\n",
       "161    233\n",
       "162    234\n",
       "163    235\n",
       "164    236\n",
       "165    237\n",
       "166    238\n",
       "167    239\n",
       "168    240\n",
       "169    241\n",
       "170    242\n",
       "171    243\n",
       "Name: Model_ID, dtype: int64"
      ]
     },
     "execution_count": 16,
     "metadata": {},
     "output_type": "execute_result"
    }
   ],
   "execution_count": 16
  },
  {
   "metadata": {},
   "cell_type": "code",
   "outputs": [],
   "execution_count": null,
   "source": "",
   "id": "fe1301704ead0588"
  }
 ],
 "metadata": {
  "kernelspec": {
   "display_name": "Python 3",
   "language": "python",
   "name": "python3"
  },
  "language_info": {
   "codemirror_mode": {
    "name": "ipython",
    "version": 2
   },
   "file_extension": ".py",
   "mimetype": "text/x-python",
   "name": "python",
   "nbconvert_exporter": "python",
   "pygments_lexer": "ipython2",
   "version": "2.7.6"
  }
 },
 "nbformat": 4,
 "nbformat_minor": 5
}
