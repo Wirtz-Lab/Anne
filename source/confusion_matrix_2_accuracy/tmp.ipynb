{
 "cells": [
  {
   "metadata": {
    "ExecuteTime": {
     "end_time": "2024-10-18T02:45:12.673054Z",
     "start_time": "2024-10-18T02:45:12.643154Z"
    }
   },
   "cell_type": "code",
   "source": [
    "from scipy.io import loadmat\n",
    "pth = r\"\\\\10.99.68.54\\Digital pathology image lib\\HubMap Skin TMC project\\240418_DLTL_master\\DLTL_v244\\dltlRunParam.mat\"\n",
    "mat = loadmat(pth)\n",
    "mat"
   ],
   "id": "c938624bc6e5cf3f",
   "outputs": [
    {
     "data": {
      "text/plain": [
       "{'__header__': b'MATLAB 5.0 MAT-file, Platform: PCWIN64, Created on: Thu Oct 17 21:43:57 2024',\n",
       " '__version__': '1.0',\n",
       " '__globals__': [],\n",
       " 'dltlid': array([[49]], dtype=uint8),\n",
       " 'broot': array(['\\\\\\\\10.99.68.54\\\\Digital pathology image lib\\\\HubMap Skin TMC project\\\\240418_DLTL_master'],\n",
       "       dtype='<U84'),\n",
       " 'mainDLfd0': array(['\\\\\\\\10.99.68.54\\\\Digital pathology image lib\\\\HubMap Skin TMC project\\\\240418_DLTL_master'],\n",
       "       dtype='<U84'),\n",
       " 'annlistname': array(['hubmap_Dall_annotationList.xlsx'], dtype='<U31'),\n",
       " 'allk': array([[array(['imID'], dtype='<U4'), array(['ImName'], dtype='<U6'),\n",
       "         array(['ImFolder'], dtype='<U8'), ...,\n",
       "         array(['Vessel_wall'], dtype='<U11'),\n",
       "         array(['noLabel'], dtype='<U7'), array([[nan]])],\n",
       "        [array([[1]], dtype=uint8),\n",
       "         array(['z-024-p1b1sb3 - 2024-03-13 17.39.18.ndpi'], dtype='<U40'),\n",
       "         array(['\\\\\\\\babyserverdw5.win.ad.jhu.edu\\\\Digital pathology image lib\\\\HubMap Skin TMC project\\\\HM-D001_O001_B001_SB003\\\\raw_images'],\n",
       "               dtype='<U117')                                                                                                                  ,\n",
       "         ..., array([[10365]], dtype=uint16),\n",
       "         array([[29190]], dtype=uint16), array([[nan]])],\n",
       "        [array([[2]], dtype=uint8),\n",
       "         array(['z-027-p1b1sb3 - 2024-03-13 17.42.38.ndpi'], dtype='<U40'),\n",
       "         array(['\\\\\\\\babyserverdw5.win.ad.jhu.edu\\\\Digital pathology image lib\\\\HubMap Skin TMC project\\\\HM-D001_O001_B001_SB003\\\\raw_images'],\n",
       "               dtype='<U117')                                                                                                                  ,\n",
       "         ..., array([[2113]], dtype=uint16),\n",
       "         array([[10261]], dtype=uint16), array([[nan]])],\n",
       "        ...,\n",
       "        [array([[44]], dtype=uint8), array(['335.ndpi'], dtype='<U8'),\n",
       "         array(['\\\\\\\\10.99.68.51\\\\Kyu\\\\skin_aging\\\\Hopkins_cohort\\\\wsi'],\n",
       "               dtype='<U47')                                             ,\n",
       "         ..., array([[5415]], dtype=uint16),\n",
       "         array([[26097]], dtype=uint16), array([[nan]])],\n",
       "        [array([[45]], dtype=uint8), array(['363.ndpi'], dtype='<U8'),\n",
       "         array(['\\\\\\\\10.99.68.51\\\\Kyu\\\\skin_aging\\\\Hopkins_cohort\\\\wsi'],\n",
       "               dtype='<U47')                                             ,\n",
       "         ..., array([[2765]], dtype=uint16),\n",
       "         array([[41214]], dtype=uint16), array([[nan]])],\n",
       "        [array([[46]], dtype=uint8), array(['379.ndpi'], dtype='<U8'),\n",
       "         array(['\\\\\\\\10.99.68.51\\\\Kyu\\\\skin_aging\\\\Hopkins_cohort\\\\wsi'],\n",
       "               dtype='<U47')                                             ,\n",
       "         ..., array([[5867]], dtype=uint16),\n",
       "         array([[29970]], dtype=uint16), array([[nan]])]], dtype=object),\n",
       " 'imnum': array([[46]], dtype=uint8),\n",
       " 'ccimid': array([[1]], dtype=uint8),\n",
       " 'ccimname': array([[2]], dtype=uint8),\n",
       " 'ccimfd': array([[3]], dtype=uint8),\n",
       " 'ccExtName': array([[4]], dtype=uint8),\n",
       " 'ccobjmag': array([[5]], dtype=uint8),\n",
       " 'ccannfd': array([[7]], dtype=uint8),\n",
       " 'ccistraining': array([[6]], dtype=uint8),\n",
       " 'dlimsz': array([[1024]], dtype=uint16),\n",
       " 'ssz': array([[800]], dtype=uint16),\n",
       " 'mainDLfd': array(['\\\\\\\\10.99.68.54\\\\Digital pathology image lib\\\\HubMap Skin TMC project\\\\240418_DLTL_master\\\\DLTL_v244'],\n",
       "       dtype='<U94'),\n",
       " 'computername': array(['WPC-C05'], dtype='<U7'),\n",
       " 'se_radius': array([[32]], dtype=uint8),\n",
       " 'classNames': array([[array(['empty'], dtype='<U5')],\n",
       "        [array(['APM'], dtype='<U3')],\n",
       "        [array(['RBC'], dtype='<U3')],\n",
       "        [array(['background'], dtype='<U10')],\n",
       "        [array(['corneum'], dtype='<U7')],\n",
       "        [array(['ecm'], dtype='<U3')],\n",
       "        [array(['endothelial'], dtype='<U11')],\n",
       "        [array(['fat'], dtype='<U3')],\n",
       "        [array(['follicle'], dtype='<U8')],\n",
       "        [array(['inflammation'], dtype='<U12')],\n",
       "        [array(['large_interstitial'], dtype='<U18')],\n",
       "        [array(['nerve'], dtype='<U5')],\n",
       "        [array(['noLabel'], dtype='<U7')],\n",
       "        [array(['noise'], dtype='<U5')],\n",
       "        [array(['oil'], dtype='<U3')],\n",
       "        [array(['papillary_dermis'], dtype='<U16')],\n",
       "        [array(['reticular_dermis'], dtype='<U16')],\n",
       "        [array(['shade'], dtype='<U5')],\n",
       "        [array(['shaft'], dtype='<U5')],\n",
       "        [array(['spinosum'], dtype='<U8')],\n",
       "        [array(['sweat'], dtype='<U5')],\n",
       "        [array(['unknown'], dtype='<U7')],\n",
       "        [array(['vessel_wall'], dtype='<U11')]], dtype=object),\n",
       " 'classNum': array([[ 0],\n",
       "        [ 1],\n",
       "        [ 2],\n",
       "        [ 3],\n",
       "        [ 4],\n",
       "        [ 5],\n",
       "        [ 6],\n",
       "        [ 7],\n",
       "        [ 8],\n",
       "        [ 9],\n",
       "        [10],\n",
       "        [11],\n",
       "        [12],\n",
       "        [13],\n",
       "        [14],\n",
       "        [15],\n",
       "        [16],\n",
       "        [17],\n",
       "        [18],\n",
       "        [19],\n",
       "        [20],\n",
       "        [21],\n",
       "        [22]], dtype=uint8),\n",
       " 'utypenamefinal': array([[array(['APM'], dtype='<U3')],\n",
       "        [array(['RBC'], dtype='<U3')],\n",
       "        [array(['background'], dtype='<U10')],\n",
       "        [array(['corneum'], dtype='<U7')],\n",
       "        [array(['ecm'], dtype='<U3')],\n",
       "        [array(['endothelial'], dtype='<U11')],\n",
       "        [array(['fat'], dtype='<U3')],\n",
       "        [array(['follicle'], dtype='<U8')],\n",
       "        [array(['inflammation'], dtype='<U12')],\n",
       "        [array(['large_interstitial'], dtype='<U18')],\n",
       "        [array(['nerve'], dtype='<U5')],\n",
       "        [array(['noLabel'], dtype='<U7')],\n",
       "        [array(['noise'], dtype='<U5')],\n",
       "        [array(['oil'], dtype='<U3')],\n",
       "        [array(['papillary_dermis'], dtype='<U16')],\n",
       "        [array(['reticular_dermis'], dtype='<U16')],\n",
       "        [array(['shade'], dtype='<U5')],\n",
       "        [array(['shaft'], dtype='<U5')],\n",
       "        [array(['spinosum'], dtype='<U8')],\n",
       "        [array(['sweat'], dtype='<U5')],\n",
       "        [array(['unknown'], dtype='<U7')],\n",
       "        [array(['vessel_wall'], dtype='<U11')]], dtype=object),\n",
       " 'utypenumfinal': array([[ 1],\n",
       "        [ 2],\n",
       "        [ 3],\n",
       "        [ 4],\n",
       "        [ 5],\n",
       "        [ 6],\n",
       "        [ 7],\n",
       "        [ 8],\n",
       "        [ 9],\n",
       "        [10],\n",
       "        [11],\n",
       "        [12],\n",
       "        [13],\n",
       "        [14],\n",
       "        [15],\n",
       "        [16],\n",
       "        [17],\n",
       "        [18],\n",
       "        [19],\n",
       "        [20],\n",
       "        [21],\n",
       "        [22]], dtype=uint8),\n",
       " 'allL': array([[array(['classID'], dtype='<U7'),\n",
       "         array(['classID update'], dtype='<U14'),\n",
       "         array(['RegionDependency'], dtype='<U16'), ...,\n",
       "         array(['335.ndpi'], dtype='<U8'),\n",
       "         array(['363.ndpi'], dtype='<U8'),\n",
       "         array(['379.ndpi'], dtype='<U8')],\n",
       "        [array([[1]], dtype=uint8), array([[1]], dtype=uint8),\n",
       "         array([[1]], dtype=uint8), ..., array([[1]], dtype=uint8),\n",
       "         array([[1]], dtype=uint8), array([[1]], dtype=uint8)],\n",
       "        [array([[2]], dtype=uint8), array([[2]], dtype=uint8),\n",
       "         array([[1]], dtype=uint8), ..., array([[2]], dtype=uint8),\n",
       "         array([[2]], dtype=uint8), array([[2]], dtype=uint8)],\n",
       "        ...,\n",
       "        [array([[20]], dtype=uint8), array([[20]], dtype=uint8),\n",
       "         array([[1]], dtype=uint8), ..., array([[14]], dtype=uint8),\n",
       "         array([[17]], dtype=uint8), array([[15]], dtype=uint8)],\n",
       "        [array([[21]], dtype=uint8), array([[21]], dtype=uint8),\n",
       "         array([[1]], dtype=uint8), ..., array([[0]], dtype=uint8),\n",
       "         array([[0]], dtype=uint8), array([[0]], dtype=uint8)],\n",
       "        [array([[22]], dtype=uint8), array([[22]], dtype=uint8),\n",
       "         array([[1]], dtype=uint8), ..., array([[15]], dtype=uint8),\n",
       "         array([[18]], dtype=uint8), array([[16]], dtype=uint8)]],\n",
       "       dtype=object),\n",
       " 'numL': array([[ 1.,  1.,  1., ...,  1.,  1.,  1.],\n",
       "        [ 2.,  2.,  1., ...,  2.,  2.,  2.],\n",
       "        [ 3.,  3.,  1., ...,  3.,  3.,  3.],\n",
       "        ...,\n",
       "        [20., 20.,  1., ..., 14., 17., 15.],\n",
       "        [21., 21.,  1., ...,  0.,  0.,  0.],\n",
       "        [22., 22.,  1., ..., 15., 18., 16.]]),\n",
       " 'lbref': array([[ 1],\n",
       "        [ 2],\n",
       "        [ 3],\n",
       "        [ 4],\n",
       "        [ 5],\n",
       "        [ 6],\n",
       "        [ 7],\n",
       "        [ 8],\n",
       "        [ 9],\n",
       "        [10],\n",
       "        [11],\n",
       "        [12],\n",
       "        [13],\n",
       "        [14],\n",
       "        [15],\n",
       "        [16],\n",
       "        [17],\n",
       "        [18],\n",
       "        [19],\n",
       "        [20],\n",
       "        [21],\n",
       "        [22]], dtype=uint8),\n",
       " 'AnnMinOccurTime': array([[1]], dtype=uint8),\n",
       " 'dim0': array([[5]], dtype=uint8),\n",
       " 'simimNum': array([[1]], dtype=uint8),\n",
       " 'ColorVariTile': array([[30]], dtype=uint8),\n",
       " 'TileSize': array([[1024, 1024]], dtype=uint16),\n",
       " 'breakupmethod': array(['NonOverlapingBreakup'], dtype='<U20'),\n",
       " 'nTile': array([[25]], dtype=uint8),\n",
       " 'EpochNum': array([[30]], dtype=uint8),\n",
       " 'InitialLearnRate': array([[0.001]]),\n",
       " 'LearnRateDropFactor': array([[0.9]]),\n",
       " 'LearnRateDropPeriod': array([[3]], dtype=uint8),\n",
       " 'LearnRateSchedule': array(['piecewise'], dtype='<U9'),\n",
       " 'MiniBatchSize': array([[3]], dtype=uint8),\n",
       " 'UseexistingNet': array([[0]], dtype=uint8),\n",
       " 'ValidationFrequency': array([[256]], dtype=uint16),\n",
       " 'tEnd': array([[371.8973568]]),\n",
       " 'lastpoi': array([[11]], dtype=uint8)}"
      ]
     },
     "execution_count": 9,
     "metadata": {},
     "output_type": "execute_result"
    }
   ],
   "execution_count": 9
  },
  {
   "metadata": {
    "ExecuteTime": {
     "end_time": "2024-10-18T02:35:30.216649Z",
     "start_time": "2024-10-18T02:35:29.706356Z"
    }
   },
   "cell_type": "code",
   "source": [
    "import mat73\n",
    "pth = r\"\\\\10.99.68.54\\Digital pathology image lib\\HubMap Skin TMC project\\240418_DLTL_master\\DLTL_v232\\dltlRunParam.mat\"\n",
    "mat2 = mat73.loadmat(pth)"
   ],
   "id": "f4a9fe0f7ba9b6ca",
   "outputs": [
    {
     "name": "stderr",
     "output_type": "stream",
     "text": [
      "ERROR:root:ERROR: MATLAB type not supported: string, (uint32)\n"
     ]
    }
   ],
   "execution_count": 2
  },
  {
   "metadata": {
    "ExecuteTime": {
     "end_time": "2024-10-18T01:39:26.746856Z",
     "start_time": "2024-10-18T01:39:26.727919Z"
    }
   },
   "cell_type": "code",
   "source": "mat.keys()",
   "id": "a2e782ceff670a33",
   "outputs": [
    {
     "data": {
      "text/plain": [
       "dict_keys(['__header__', '__version__', '__globals__', 'dltlid', 'broot', 'mainDLfd0', 'annlistname', 'allk', 'imnum', 'ccimid', 'ccimname', 'ccimfd', 'ccExtName', 'ccobjmag', 'ccannfd', 'ccistraining', 'mainDLfd', 'None', 'se_radius', 'classNames', 'classNum', 'utypenamefinal', 'utypenumfinal', 'allL', 'numL', 'lbref', 'AnnMinOccurTime', 'dim0', 'simimNum', 'ColorVariTile', 'TileSize', 'breakupmethod', 'nTile', 'EpochNum', 'InitialLearnRate', 'LearnRateDropFactor', 'LearnRateDropPeriod', 'LearnRateSchedule', 'MiniBatchSize', 'UseexistingNet', 'ValidationFrequency', 'tEnd', 'lastpoi', '__function_workspace__'])"
      ]
     },
     "execution_count": 3,
     "metadata": {},
     "output_type": "execute_result"
    }
   ],
   "execution_count": 3
  },
  {
   "metadata": {
    "ExecuteTime": {
     "end_time": "2024-10-18T02:45:21.958007Z",
     "start_time": "2024-10-18T02:45:21.951031Z"
    }
   },
   "cell_type": "code",
   "source": "mat['tEnd'][0][0]",
   "id": "929809f328761870",
   "outputs": [
    {
     "data": {
      "text/plain": [
       "371.8973568"
      ]
     },
     "execution_count": 12,
     "metadata": {},
     "output_type": "execute_result"
    }
   ],
   "execution_count": 12
  },
  {
   "metadata": {
    "ExecuteTime": {
     "end_time": "2024-10-18T02:45:40.842830Z",
     "start_time": "2024-10-18T02:45:40.823893Z"
    }
   },
   "cell_type": "code",
   "source": "mat['computername'][0]",
   "id": "22f392af0d8c2fff",
   "outputs": [
    {
     "data": {
      "text/plain": [
       "numpy.str_"
      ]
     },
     "execution_count": 14,
     "metadata": {},
     "output_type": "execute_result"
    }
   ],
   "execution_count": 14
  },
  {
   "metadata": {},
   "cell_type": "code",
   "outputs": [],
   "execution_count": null,
   "source": "",
   "id": "4c4bc714f7f5bfcf"
  }
 ],
 "metadata": {
  "kernelspec": {
   "display_name": "Python 3",
   "language": "python",
   "name": "python3"
  },
  "language_info": {
   "codemirror_mode": {
    "name": "ipython",
    "version": 2
   },
   "file_extension": ".py",
   "mimetype": "text/x-python",
   "name": "python",
   "nbconvert_exporter": "python",
   "pygments_lexer": "ipython2",
   "version": "2.7.6"
  }
 },
 "nbformat": 4,
 "nbformat_minor": 5
}
