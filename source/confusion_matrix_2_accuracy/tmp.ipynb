{
 "cells": [
  {
   "metadata": {
    "ExecuteTime": {
     "end_time": "2024-10-18T01:39:25.911368Z",
     "start_time": "2024-10-18T01:39:25.365232Z"
    }
   },
   "cell_type": "code",
   "source": [
    "from scipy.io import loadmat\n",
    "pth = r\"\\\\10.99.68.54\\Digital pathology image lib\\HubMap Skin TMC project\\240418_DLTL_master\\DLTL_v243\\dltlRunParam.mat\"\n",
    "mat = loadmat(pth)"
   ],
   "id": "c938624bc6e5cf3f",
   "outputs": [],
   "execution_count": 2
  },
  {
   "metadata": {
    "ExecuteTime": {
     "end_time": "2024-10-18T01:39:26.746856Z",
     "start_time": "2024-10-18T01:39:26.727919Z"
    }
   },
   "cell_type": "code",
   "source": "mat.keys()",
   "id": "a2e782ceff670a33",
   "outputs": [
    {
     "data": {
      "text/plain": [
       "dict_keys(['__header__', '__version__', '__globals__', 'dltlid', 'broot', 'mainDLfd0', 'annlistname', 'allk', 'imnum', 'ccimid', 'ccimname', 'ccimfd', 'ccExtName', 'ccobjmag', 'ccannfd', 'ccistraining', 'mainDLfd', 'None', 'se_radius', 'classNames', 'classNum', 'utypenamefinal', 'utypenumfinal', 'allL', 'numL', 'lbref', 'AnnMinOccurTime', 'dim0', 'simimNum', 'ColorVariTile', 'TileSize', 'breakupmethod', 'nTile', 'EpochNum', 'InitialLearnRate', 'LearnRateDropFactor', 'LearnRateDropPeriod', 'LearnRateSchedule', 'MiniBatchSize', 'UseexistingNet', 'ValidationFrequency', 'tEnd', 'lastpoi', '__function_workspace__'])"
      ]
     },
     "execution_count": 3,
     "metadata": {},
     "output_type": "execute_result"
    }
   ],
   "execution_count": 3
  },
  {
   "metadata": {
    "ExecuteTime": {
     "end_time": "2024-10-18T01:39:28.640985Z",
     "start_time": "2024-10-18T01:39:28.635005Z"
    }
   },
   "cell_type": "code",
   "source": "mat['tEnd']",
   "id": "929809f328761870",
   "outputs": [
    {
     "data": {
      "text/plain": [
       "array([[6047.5771813]])"
      ]
     },
     "execution_count": 4,
     "metadata": {},
     "output_type": "execute_result"
    }
   ],
   "execution_count": 4
  },
  {
   "metadata": {
    "ExecuteTime": {
     "end_time": "2024-10-18T01:39:47.001309Z",
     "start_time": "2024-10-18T01:39:46.988353Z"
    }
   },
   "cell_type": "code",
   "source": "mat['None']",
   "id": "22f392af0d8c2fff",
   "outputs": [
    {
     "data": {
      "text/plain": [
       "MatlabOpaque([(b'computername', b'MCOS', b'string', array([[3707764736],\n",
       "                     [         2],\n",
       "                     [         1],\n",
       "                     [         1],\n",
       "                     [         1],\n",
       "                     [         1]], dtype=uint32))                      ],\n",
       "             dtype=[('s0', 'O'), ('s1', 'O'), ('s2', 'O'), ('arr', 'O')])"
      ]
     },
     "execution_count": 6,
     "metadata": {},
     "output_type": "execute_result"
    }
   ],
   "execution_count": 6
  },
  {
   "metadata": {},
   "cell_type": "code",
   "outputs": [],
   "execution_count": null,
   "source": "",
   "id": "4c4bc714f7f5bfcf"
  }
 ],
 "metadata": {
  "kernelspec": {
   "display_name": "Python 3",
   "language": "python",
   "name": "python3"
  },
  "language_info": {
   "codemirror_mode": {
    "name": "ipython",
    "version": 2
   },
   "file_extension": ".py",
   "mimetype": "text/x-python",
   "name": "python",
   "nbconvert_exporter": "python",
   "pygments_lexer": "ipython2",
   "version": "2.7.6"
  }
 },
 "nbformat": 4,
 "nbformat_minor": 5
}
