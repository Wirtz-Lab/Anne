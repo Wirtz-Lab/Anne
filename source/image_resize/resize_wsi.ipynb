{
 "cells": [
  {
   "cell_type": "code",
   "id": "initial_id",
   "metadata": {
    "collapsed": true,
    "ExecuteTime": {
     "end_time": "2024-10-07T14:03:00.312248Z",
     "start_time": "2024-10-07T14:03:00.302274Z"
    }
   },
   "source": [
    "from PIL import Image\n",
    "Image.MAX_IMAGE_PIXEL=None\n",
    "import os"
   ],
   "outputs": [],
   "execution_count": 14
  },
  {
   "metadata": {
    "ExecuteTime": {
     "end_time": "2024-10-07T14:03:00.342165Z",
     "start_time": "2024-10-07T14:03:00.318245Z"
    }
   },
   "cell_type": "code",
   "source": [
    "imsrc = r'\\\\10.99.68.54\\Digital pathology image lib\\Alopecia_joel_sunshine\\AA001\\H'\n",
    "imdst = os.path.join(imsrc,'snapshot')\n",
    "if not os.path.exists(imdst): os.mkdir(imdst)\n",
    "ims = [_ for _ in os.listdir(imsrc) if _.endswith('tif')]"
   ],
   "id": "12855b2bbf60b24a",
   "outputs": [],
   "execution_count": 15
  },
  {
   "metadata": {
    "ExecuteTime": {
     "end_time": "2024-10-07T14:03:01.625955Z",
     "start_time": "2024-10-07T14:03:00.359117Z"
    }
   },
   "cell_type": "code",
   "source": [
    "rsf = 8\n",
    "for im in ims:\n",
    "    imobj = Image.open(os.path.join(imsrc,im))\n",
    "    (width, height) = (imobj.width // rsf, imobj.height // rsf)\n",
    "    im_resized = imobj.resize((width, height),resample =Image.Resampling.BICUBIC)\n",
    "    im_resized.save(os.path.join(imdst,im).replace('.tif','.jpg'))"
   ],
   "id": "b4a81a8244f92497",
   "outputs": [],
   "execution_count": 16
  },
  {
   "metadata": {
    "ExecuteTime": {
     "end_time": "2024-10-08T14:32:18.790119Z",
     "start_time": "2024-10-08T14:32:18.771170Z"
    }
   },
   "cell_type": "code",
   "source": [
    "import os, glob\n",
    "dltlid = 10\n",
    "src = r'\\\\10.99.68.54\\Digital pathology image lib\\HubMap Skin TMC project\\240418_DLTL_master\\DLTL_v{dltlid:d}\\TrainCNN MDL\\performance metrics'.format(dltlid = dltlid)\n",
    "\n",
    "source_file = glob.glob(os.path.join(src,'net_*-01_trainingConfusionMetric.xlsx'));\n",
    "source_file"
   ],
   "id": "b155e82ac0461844",
   "outputs": [
    {
     "data": {
      "text/plain": [
       "['\\\\\\\\10.99.68.54\\\\Digital pathology image lib\\\\HubMap Skin TMC project\\\\240418_DLTL_master\\\\DLTL_v10\\\\TrainCNN MDL\\\\performance metrics\\\\net_230527-01_trainingConfusionMetric.xlsx']"
      ]
     },
     "execution_count": 6,
     "metadata": {},
     "output_type": "execute_result"
    }
   ],
   "execution_count": 6
  },
  {
   "metadata": {},
   "cell_type": "code",
   "outputs": [],
   "execution_count": null,
   "source": "",
   "id": "753d39709d822602"
  }
 ],
 "metadata": {
  "kernelspec": {
   "display_name": "Python 3",
   "language": "python",
   "name": "python3"
  },
  "language_info": {
   "codemirror_mode": {
    "name": "ipython",
    "version": 2
   },
   "file_extension": ".py",
   "mimetype": "text/x-python",
   "name": "python",
   "nbconvert_exporter": "python",
   "pygments_lexer": "ipython2",
   "version": "2.7.6"
  }
 },
 "nbformat": 4,
 "nbformat_minor": 5
}
